{
 "cells": [
  {
   "cell_type": "code",
   "execution_count": 4,
   "metadata": {},
   "outputs": [],
   "source": [
    "from datetime import date\n",
    "from datetime import datetime\n",
    "from koboextractor import KoboExtractor\n",
    "import pandas as pd"
   ]
  },
  {
   "cell_type": "code",
   "execution_count": 12,
   "metadata": {},
   "outputs": [],
   "source": [
    "KOBO_TOKEN = '26566dd7934bcb45fee86851765c4f7c867e9cc3'\n",
    "kobo = KoboExtractor(KOBO_TOKEN, 'https://kf.kobotoolbox.info/api/v2') # kobo.humanitarianresponse.info\n",
    "asset_uid = \"atX9jThsvhvhhjFf573eng\" #\"a7Wd6TUVqejWxSwBkzSGY9\"\n",
    "#today = date.today()\n",
    "#datos_today = kobo.get_data(asset_uid,submitted_after = today )\n",
    "data = kobo.get_data(asset_uid)"
   ]
  },
  {
   "cell_type": "code",
   "execution_count": 13,
   "metadata": {
    "scrolled": true
   },
   "outputs": [
    {
     "data": {
      "text/plain": [
       "{'count': 3,\n",
       " 'next': None,\n",
       " 'previous': None,\n",
       " 'results': [{'_id': 114842029,\n",
       "   'formhub/uuid': '928bd8fe213b44d1a09aed321935d1d4',\n",
       "   'start': '2021-09-19T19:17:22.697-03:00',\n",
       "   'end': '2021-09-19T19:18:38.421-03:00',\n",
       "   'Observador': 'turista',\n",
       "   'Pa_s': 'CHILE',\n",
       "   'Fecha_y_Hora': '2021-09-19T19:17:00-03:00',\n",
       "   'Punto_de_Observaci_n': 'punto_1',\n",
       "   'Subir_Imagen': '163208988492942523402-19_18_18.jpg',\n",
       "   '__version__': 'vBxxVut85VBR8KKB3QBwgw',\n",
       "   '_version_': 'vmHKDJyn8VopfjqnnnQWUh',\n",
       "   'meta/instanceID': 'uuid:fce2e177-7bbd-4735-b849-f9c92c60ab06',\n",
       "   '_xform_id_string': 'atX9jThsvhvhhjFf573eng',\n",
       "   '_uuid': 'fce2e177-7bbd-4735-b849-f9c92c60ab06',\n",
       "   '_attachments': [{'download_url': 'https://kc.kobotoolbox.org/media/original?media_file=marcosgomez%2Fattachments%2F928bd8fe213b44d1a09aed321935d1d4%2Ffce2e177-7bbd-4735-b849-f9c92c60ab06%2F163208988492942523402-19_18_18.jpg',\n",
       "     'download_large_url': 'https://kc.kobotoolbox.org/media/large?media_file=marcosgomez%2Fattachments%2F928bd8fe213b44d1a09aed321935d1d4%2Ffce2e177-7bbd-4735-b849-f9c92c60ab06%2F163208988492942523402-19_18_18.jpg',\n",
       "     'download_medium_url': 'https://kc.kobotoolbox.org/media/medium?media_file=marcosgomez%2Fattachments%2F928bd8fe213b44d1a09aed321935d1d4%2Ffce2e177-7bbd-4735-b849-f9c92c60ab06%2F163208988492942523402-19_18_18.jpg',\n",
       "     'download_small_url': 'https://kc.kobotoolbox.org/media/small?media_file=marcosgomez%2Fattachments%2F928bd8fe213b44d1a09aed321935d1d4%2Ffce2e177-7bbd-4735-b849-f9c92c60ab06%2F163208988492942523402-19_18_18.jpg',\n",
       "     'mimetype': 'image/jpeg',\n",
       "     'filename': 'marcosgomez/attachments/928bd8fe213b44d1a09aed321935d1d4/fce2e177-7bbd-4735-b849-f9c92c60ab06/163208988492942523402-19_18_18.jpg',\n",
       "     'instance': 114842029,\n",
       "     'xform': 781489,\n",
       "     'id': 42579566}],\n",
       "   '_status': 'submitted_via_web',\n",
       "   '_geolocation': [None, None],\n",
       "   '_submission_time': '2021-09-19T22:19:47',\n",
       "   '_tags': [],\n",
       "   '_notes': [],\n",
       "   '_validation_status': {},\n",
       "   '_submitted_by': None},\n",
       "  {'_id': 114842057,\n",
       "   'formhub/uuid': '928bd8fe213b44d1a09aed321935d1d4',\n",
       "   'start': '2021-09-19T19:18:38.723-03:00',\n",
       "   'end': '2021-09-19T19:19:37.513-03:00',\n",
       "   'Observador': 'gu_a',\n",
       "   'Pa_s': 'ALEMANIA',\n",
       "   'Fecha_y_Hora': '2021-09-19T22:19:00-03:00',\n",
       "   'Punto_de_Observaci_n': 'punto_4',\n",
       "   'Subir_Imagen': '16320899582541231815601-19_19_31.jpg',\n",
       "   '__version__': 'vBxxVut85VBR8KKB3QBwgw',\n",
       "   '_version_': 'vmHKDJyn8VopfjqnnnQWUh',\n",
       "   'meta/instanceID': 'uuid:fe9e54dd-da56-4d50-88b3-01535fa50a0e',\n",
       "   '_xform_id_string': 'atX9jThsvhvhhjFf573eng',\n",
       "   '_uuid': 'fe9e54dd-da56-4d50-88b3-01535fa50a0e',\n",
       "   '_attachments': [{'download_url': 'https://kc.kobotoolbox.org/media/original?media_file=marcosgomez%2Fattachments%2F928bd8fe213b44d1a09aed321935d1d4%2Ffe9e54dd-da56-4d50-88b3-01535fa50a0e%2F16320899582541231815601-19_19_31.jpg',\n",
       "     'download_large_url': 'https://kc.kobotoolbox.org/media/large?media_file=marcosgomez%2Fattachments%2F928bd8fe213b44d1a09aed321935d1d4%2Ffe9e54dd-da56-4d50-88b3-01535fa50a0e%2F16320899582541231815601-19_19_31.jpg',\n",
       "     'download_medium_url': 'https://kc.kobotoolbox.org/media/medium?media_file=marcosgomez%2Fattachments%2F928bd8fe213b44d1a09aed321935d1d4%2Ffe9e54dd-da56-4d50-88b3-01535fa50a0e%2F16320899582541231815601-19_19_31.jpg',\n",
       "     'download_small_url': 'https://kc.kobotoolbox.org/media/small?media_file=marcosgomez%2Fattachments%2F928bd8fe213b44d1a09aed321935d1d4%2Ffe9e54dd-da56-4d50-88b3-01535fa50a0e%2F16320899582541231815601-19_19_31.jpg',\n",
       "     'mimetype': 'image/jpeg',\n",
       "     'filename': 'marcosgomez/attachments/928bd8fe213b44d1a09aed321935d1d4/fe9e54dd-da56-4d50-88b3-01535fa50a0e/16320899582541231815601-19_19_31.jpg',\n",
       "     'instance': 114842057,\n",
       "     'xform': 781489,\n",
       "     'id': 42579583}],\n",
       "   '_status': 'submitted_via_web',\n",
       "   '_geolocation': [None, None],\n",
       "   '_submission_time': '2021-09-19T22:20:45',\n",
       "   '_tags': [],\n",
       "   '_notes': [],\n",
       "   '_validation_status': {},\n",
       "   '_submitted_by': None},\n",
       "  {'_id': 114842085,\n",
       "   'formhub/uuid': '928bd8fe213b44d1a09aed321935d1d4',\n",
       "   'start': '2021-09-19T19:19:37.722-03:00',\n",
       "   'end': '2021-09-19T19:20:26.527-03:00',\n",
       "   'Observador': 'gu_a',\n",
       "   'Pa_s': 'CHILE',\n",
       "   'Fecha_y_Hora': '2021-09-19T00:24:00-03:00',\n",
       "   'Punto_de_Observaci_n': 'punto_1',\n",
       "   'Subir_Imagen': '1632090011577275246312-19_20_22.jpg',\n",
       "   '__version__': 'vBxxVut85VBR8KKB3QBwgw',\n",
       "   '_version_': 'vmHKDJyn8VopfjqnnnQWUh',\n",
       "   'meta/instanceID': 'uuid:96ce821d-5a82-4fbc-beff-d579eac6db8c',\n",
       "   '_xform_id_string': 'atX9jThsvhvhhjFf573eng',\n",
       "   '_uuid': '96ce821d-5a82-4fbc-beff-d579eac6db8c',\n",
       "   '_attachments': [{'download_url': 'https://kc.kobotoolbox.org/media/original?media_file=marcosgomez%2Fattachments%2F928bd8fe213b44d1a09aed321935d1d4%2F96ce821d-5a82-4fbc-beff-d579eac6db8c%2F1632090011577275246312-19_20_22.jpg',\n",
       "     'download_large_url': 'https://kc.kobotoolbox.org/media/large?media_file=marcosgomez%2Fattachments%2F928bd8fe213b44d1a09aed321935d1d4%2F96ce821d-5a82-4fbc-beff-d579eac6db8c%2F1632090011577275246312-19_20_22.jpg',\n",
       "     'download_medium_url': 'https://kc.kobotoolbox.org/media/medium?media_file=marcosgomez%2Fattachments%2F928bd8fe213b44d1a09aed321935d1d4%2F96ce821d-5a82-4fbc-beff-d579eac6db8c%2F1632090011577275246312-19_20_22.jpg',\n",
       "     'download_small_url': 'https://kc.kobotoolbox.org/media/small?media_file=marcosgomez%2Fattachments%2F928bd8fe213b44d1a09aed321935d1d4%2F96ce821d-5a82-4fbc-beff-d579eac6db8c%2F1632090011577275246312-19_20_22.jpg',\n",
       "     'mimetype': 'image/jpeg',\n",
       "     'filename': 'marcosgomez/attachments/928bd8fe213b44d1a09aed321935d1d4/96ce821d-5a82-4fbc-beff-d579eac6db8c/1632090011577275246312-19_20_22.jpg',\n",
       "     'instance': 114842085,\n",
       "     'xform': 781489,\n",
       "     'id': 42579600}],\n",
       "   '_status': 'submitted_via_web',\n",
       "   '_geolocation': [None, None],\n",
       "   '_submission_time': '2021-09-19T22:21:34',\n",
       "   '_tags': [],\n",
       "   '_notes': [],\n",
       "   '_validation_status': {},\n",
       "   '_submitted_by': None}]}"
      ]
     },
     "metadata": {},
     "output_type": "display_data"
    }
   ],
   "source": [
    "today = date.today()\n",
    "datos_hoy = kobo.get_data(asset_uid,submitted_after = today )\n",
    "display(data)"
   ]
  },
  {
   "cell_type": "code",
   "execution_count": 8,
   "metadata": {},
   "outputs": [],
   "source": [
    "import bokeh\n",
    "from bokeh.io import output_file, show\n",
    "from bokeh.layouts import row,column\n",
    "from bokeh.plotting import figure,output_file, save, show, ColumnDataSource\n",
    "from bokeh.models.tools import HoverTool\n",
    "from collections import OrderedDict\n",
    "import matplotlib.pyplot as plt\n",
    "import pandas as pd\n",
    "import numpy as np\n",
    "%matplotlib inline"
   ]
  },
  {
   "cell_type": "code",
   "execution_count": 37,
   "metadata": {},
   "outputs": [
    {
     "name": "stdout",
     "output_type": "stream",
     "text": [
      "[{'_id': 206278897, 'formhub/uuid': '9717a4a6317b4dccbce58b07ddf4cd05', 'hora': '14:02:00.000-03:00', 'fecha': '2021-08-16', 'observador': 'Zjs', 'Id_baliza': 'Ssjj', 'altura': '9464.0', 'comentarios': 'Jsjsj', 'foto': '1629738184039.jpg', '__version__': 'vvPhoo5zfjtNbqtrSekFLH', 'meta/instanceID': 'uuid:e06ed986-37ce-4d0e-b772-d4275b60cdf8', '_xform_id_string': 'a7Wd6TUVqejWxSwBkzSGY9', '_uuid': 'e06ed986-37ce-4d0e-b772-d4275b60cdf8', '_attachments': [{'download_url': 'https://kc.humanitarianresponse.info/media/original?media_file=sebastianduranv%2Fattachments%2F9717a4a6317b4dccbce58b07ddf4cd05%2Fe06ed986-37ce-4d0e-b772-d4275b60cdf8%2F1629738184039.jpg', 'download_large_url': 'https://kc.humanitarianresponse.info/media/large?media_file=sebastianduranv%2Fattachments%2F9717a4a6317b4dccbce58b07ddf4cd05%2Fe06ed986-37ce-4d0e-b772-d4275b60cdf8%2F1629738184039.jpg', 'download_medium_url': 'https://kc.humanitarianresponse.info/media/medium?media_file=sebastianduranv%2Fattachments%2F9717a4a6317b4dccbce58b07ddf4cd05%2Fe06ed986-37ce-4d0e-b772-d4275b60cdf8%2F1629738184039.jpg', 'download_small_url': 'https://kc.humanitarianresponse.info/media/small?media_file=sebastianduranv%2Fattachments%2F9717a4a6317b4dccbce58b07ddf4cd05%2Fe06ed986-37ce-4d0e-b772-d4275b60cdf8%2F1629738184039.jpg', 'mimetype': 'image/jpeg', 'filename': 'sebastianduranv/attachments/9717a4a6317b4dccbce58b07ddf4cd05/e06ed986-37ce-4d0e-b772-d4275b60cdf8/1629738184039.jpg', 'instance': 206278897, 'xform': 869529, 'id': 76088241}], '_status': 'submitted_via_web', '_geolocation': [None, None], '_submission_time': '2021-08-23T18:04:25', '_tags': [], '_notes': [], '_validation_status': {}, '_submitted_by': 'sebastianduranv'}]\n"
     ]
    }
   ],
   "source": [
    "l = []\n",
    "for i in range (len(data['results'])):\n",
    "    if data['results'][i]['Id_baliza'] == 'Ssjj':\n",
    "        l.append(data['results'][i])"
   ]
  },
  {
   "cell_type": "code",
   "execution_count": 42,
   "metadata": {},
   "outputs": [],
   "source": [
    "from math import pi\n",
    "\n",
    "import pandas as pd\n",
    "\n",
    "from bokeh.palettes import Category20c\n",
    "from bokeh.plotting import figure, show\n",
    "from bokeh.transform import cumsum"
   ]
  },
  {
   "cell_type": "code",
   "execution_count": 44,
   "metadata": {},
   "outputs": [],
   "source": [
    "x = {\n",
    "    'United States': 157,\n",
    "    'United Kingdom': 93,\n",
    "    'Japan': 89,\n",
    "    'China': 63,\n",
    "    'Germany': 44,\n",
    "    'India': 42,\n",
    "    'Italy': 40,\n",
    "    'Australia': 35,\n",
    "    'Brazil': 32,\n",
    "    'France': 31,\n",
    "    'Taiwan': 31,\n",
    "    'Spain': 29\n",
    "}\n",
    "\n",
    "data = pd.Series(x).reset_index(name='value').rename(columns={'index': 'country'})\n",
    "data['angle'] = data['value']/data['value'].sum() * 2*pi\n",
    "data['color'] = Category20c[len(x)]\n",
    "\n",
    "p = figure(height=350, title=\"Pie Chart\", toolbar_location=None,\n",
    "           tools=\"hover\", tooltips=\"@country: @value\", x_range=(-0.5, 1.0))\n",
    "\n",
    "p.wedge(x=0, y=1, radius=0.4,\n",
    "        start_angle=cumsum('angle', include_zero=True), end_angle=cumsum('angle'),\n",
    "        line_color=\"white\", fill_color='color', legend_field='country', source=data)\n",
    "\n",
    "p.axis.axis_label = None\n",
    "p.axis.visible = False\n",
    "p.grid.grid_line_color = None\n",
    "\n",
    "output_file(r\".\\Grafico_paises.html\")\n",
    "show(p)"
   ]
  },
  {
   "cell_type": "code",
   "execution_count": null,
   "metadata": {},
   "outputs": [],
   "source": []
  }
 ],
 "metadata": {
  "kernelspec": {
   "display_name": "Python 3",
   "language": "python",
   "name": "python3"
  },
  "language_info": {
   "codemirror_mode": {
    "name": "ipython",
    "version": 3
   },
   "file_extension": ".py",
   "mimetype": "text/x-python",
   "name": "python",
   "nbconvert_exporter": "python",
   "pygments_lexer": "ipython3",
   "version": "3.8.3"
  }
 },
 "nbformat": 4,
 "nbformat_minor": 4
}
