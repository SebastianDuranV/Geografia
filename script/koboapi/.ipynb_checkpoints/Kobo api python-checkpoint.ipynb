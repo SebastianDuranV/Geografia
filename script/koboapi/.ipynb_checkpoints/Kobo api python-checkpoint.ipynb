{
 "cells": [
  {
   "cell_type": "code",
   "execution_count": 8,
   "metadata": {},
   "outputs": [],
   "source": [
    "from koboextractor import KoboExtractor\n",
    "KOBO_TOKEN = '813ee832286390a375a06f6453a5269f072d0ec5'\n",
    "kobo = KoboExtractor(KOBO_TOKEN, 'https://kobo.humanitarianresponse.info/api/v2')"
   ]
  },
  {
   "cell_type": "code",
   "execution_count": 9,
   "metadata": {},
   "outputs": [],
   "source": [
    "asset_uid = \"a7Wd6TUVqejWxSwBkzSGY9\"\n",
    "new_data = kobo.get_data(asset_uid)"
   ]
  },
  {
   "cell_type": "code",
   "execution_count": 24,
   "metadata": {},
   "outputs": [
    {
     "data": {
      "text/plain": [
       "{'count': 0, 'next': None, 'previous': None, 'results': []}"
      ]
     },
     "metadata": {},
     "output_type": "display_data"
    }
   ],
   "source": [
    "fecha = '2022-01-20'\n",
    "datos_hoy = kobo.get_data(asset_uid,submitted_after = fecha )\n",
    "display(datos_hoy)"
   ]
  },
  {
   "cell_type": "code",
   "execution_count": 12,
   "metadata": {},
   "outputs": [
    {
     "data": {
      "text/plain": [
       "{'_id': 206278897,\n",
       " 'formhub/uuid': '9717a4a6317b4dccbce58b07ddf4cd05',\n",
       " 'hora': '14:02:00.000-03:00',\n",
       " 'fecha': '2021-08-16',\n",
       " 'observador': 'Zjs',\n",
       " 'Id_baliza': 'Ssjj',\n",
       " 'altura': '9464.0',\n",
       " 'comentarios': 'Jsjsj',\n",
       " 'foto': '1629738184039.jpg',\n",
       " '__version__': 'vvPhoo5zfjtNbqtrSekFLH',\n",
       " 'meta/instanceID': 'uuid:e06ed986-37ce-4d0e-b772-d4275b60cdf8',\n",
       " '_xform_id_string': 'a7Wd6TUVqejWxSwBkzSGY9',\n",
       " '_uuid': 'e06ed986-37ce-4d0e-b772-d4275b60cdf8',\n",
       " '_attachments': [{'download_url': 'https://kc.humanitarianresponse.info/media/original?media_file=sebastianduranv%2Fattachments%2F9717a4a6317b4dccbce58b07ddf4cd05%2Fe06ed986-37ce-4d0e-b772-d4275b60cdf8%2F1629738184039.jpg',\n",
       "   'download_large_url': 'https://kc.humanitarianresponse.info/media/large?media_file=sebastianduranv%2Fattachments%2F9717a4a6317b4dccbce58b07ddf4cd05%2Fe06ed986-37ce-4d0e-b772-d4275b60cdf8%2F1629738184039.jpg',\n",
       "   'download_medium_url': 'https://kc.humanitarianresponse.info/media/medium?media_file=sebastianduranv%2Fattachments%2F9717a4a6317b4dccbce58b07ddf4cd05%2Fe06ed986-37ce-4d0e-b772-d4275b60cdf8%2F1629738184039.jpg',\n",
       "   'download_small_url': 'https://kc.humanitarianresponse.info/media/small?media_file=sebastianduranv%2Fattachments%2F9717a4a6317b4dccbce58b07ddf4cd05%2Fe06ed986-37ce-4d0e-b772-d4275b60cdf8%2F1629738184039.jpg',\n",
       "   'mimetype': 'image/jpeg',\n",
       "   'filename': 'sebastianduranv/attachments/9717a4a6317b4dccbce58b07ddf4cd05/e06ed986-37ce-4d0e-b772-d4275b60cdf8/1629738184039.jpg',\n",
       "   'instance': 206278897,\n",
       "   'xform': 869529,\n",
       "   'id': 76088241}],\n",
       " '_status': 'submitted_via_web',\n",
       " '_geolocation': [None, None],\n",
       " '_submission_time': '2021-08-23T18:04:25',\n",
       " '_tags': [],\n",
       " '_notes': [],\n",
       " '_validation_status': {},\n",
       " '_submitted_by': 'sebastianduranv'}"
      ]
     },
     "metadata": {},
     "output_type": "display_data"
    }
   ],
   "source": [
    "display(new_data['results'][0])"
   ]
  },
  {
   "cell_type": "code",
   "execution_count": 14,
   "metadata": {},
   "outputs": [],
   "source": [
    "import json\n",
    "new_data_jason = json.dumps(new_data)"
   ]
  },
  {
   "cell_type": "code",
   "execution_count": 19,
   "metadata": {},
   "outputs": [
    {
     "data": {
      "text/plain": [
       "'{\"count\": 2, \"next\": null, \"previous\": null, \"results\": [{\"_id\": 206278897, \"formhub/uuid\": \"9717a4a6317b4dccbce58b07ddf4cd05\", \"hora\": \"14:02:00.000-03:00\", \"fecha\": \"2021-08-16\", \"observador\": \"Zjs\", \"Id_baliza\": \"Ssjj\", \"altura\": \"9464.0\", \"comentarios\": \"Jsjsj\", \"foto\": \"1629738184039.jpg\", \"__version__\": \"vvPhoo5zfjtNbqtrSekFLH\", \"meta/instanceID\": \"uuid:e06ed986-37ce-4d0e-b772-d4275b60cdf8\", \"_xform_id_string\": \"a7Wd6TUVqejWxSwBkzSGY9\", \"_uuid\": \"e06ed986-37ce-4d0e-b772-d4275b60cdf8\", \"_attachments\": [{\"download_url\": \"https://kc.humanitarianresponse.info/media/original?media_file=sebastianduranv%2Fattachments%2F9717a4a6317b4dccbce58b07ddf4cd05%2Fe06ed986-37ce-4d0e-b772-d4275b60cdf8%2F1629738184039.jpg\", \"download_large_url\": \"https://kc.humanitarianresponse.info/media/large?media_file=sebastianduranv%2Fattachments%2F9717a4a6317b4dccbce58b07ddf4cd05%2Fe06ed986-37ce-4d0e-b772-d4275b60cdf8%2F1629738184039.jpg\", \"download_medium_url\": \"https://kc.humanitarianresponse.info/media/medium?media_file=sebastianduranv%2Fattachments%2F9717a4a6317b4dccbce58b07ddf4cd05%2Fe06ed986-37ce-4d0e-b772-d4275b60cdf8%2F1629738184039.jpg\", \"download_small_url\": \"https://kc.humanitarianresponse.info/media/small?media_file=sebastianduranv%2Fattachments%2F9717a4a6317b4dccbce58b07ddf4cd05%2Fe06ed986-37ce-4d0e-b772-d4275b60cdf8%2F1629738184039.jpg\", \"mimetype\": \"image/jpeg\", \"filename\": \"sebastianduranv/attachments/9717a4a6317b4dccbce58b07ddf4cd05/e06ed986-37ce-4d0e-b772-d4275b60cdf8/1629738184039.jpg\", \"instance\": 206278897, \"xform\": 869529, \"id\": 76088241}], \"_status\": \"submitted_via_web\", \"_geolocation\": [null, null], \"_submission_time\": \"2021-08-23T18:04:25\", \"_tags\": [], \"_notes\": [], \"_validation_status\": {}, \"_submitted_by\": \"sebastianduranv\"}, {\"_id\": 206278866, \"formhub/uuid\": \"9717a4a6317b4dccbce58b07ddf4cd05\", \"hora\": \"14:01:00.000-03:00\", \"fecha\": \"2021-08-18\", \"observador\": \"Sebastian\", \"Id_baliza\": \"1d\", \"altura\": \"9485.0\", \"comentarios\": \"Jahaha\", \"foto\": \"1629738117824.jpg\", \"__version__\": \"vvPhoo5zfjtNbqtrSekFLH\", \"meta/instanceID\": \"uuid:1fcb9ff0-ab85-4973-afe9-601dd8ecf15e\", \"_xform_id_string\": \"a7Wd6TUVqejWxSwBkzSGY9\", \"_uuid\": \"1fcb9ff0-ab85-4973-afe9-601dd8ecf15e\", \"_attachments\": [{\"download_url\": \"https://kc.humanitarianresponse.info/media/original?media_file=sebastianduranv%2Fattachments%2F9717a4a6317b4dccbce58b07ddf4cd05%2F1fcb9ff0-ab85-4973-afe9-601dd8ecf15e%2F1629738117824.jpg\", \"download_large_url\": \"https://kc.humanitarianresponse.info/media/large?media_file=sebastianduranv%2Fattachments%2F9717a4a6317b4dccbce58b07ddf4cd05%2F1fcb9ff0-ab85-4973-afe9-601dd8ecf15e%2F1629738117824.jpg\", \"download_medium_url\": \"https://kc.humanitarianresponse.info/media/medium?media_file=sebastianduranv%2Fattachments%2F9717a4a6317b4dccbce58b07ddf4cd05%2F1fcb9ff0-ab85-4973-afe9-601dd8ecf15e%2F1629738117824.jpg\", \"download_small_url\": \"https://kc.humanitarianresponse.info/media/small?media_file=sebastianduranv%2Fattachments%2F9717a4a6317b4dccbce58b07ddf4cd05%2F1fcb9ff0-ab85-4973-afe9-601dd8ecf15e%2F1629738117824.jpg\", \"mimetype\": \"image/jpeg\", \"filename\": \"sebastianduranv/attachments/9717a4a6317b4dccbce58b07ddf4cd05/1fcb9ff0-ab85-4973-afe9-601dd8ecf15e/1629738117824.jpg\", \"instance\": 206278866, \"xform\": 869529, \"id\": 76088224}], \"_status\": \"submitted_via_web\", \"_geolocation\": [null, null], \"_submission_time\": \"2021-08-23T18:04:22\", \"_tags\": [], \"_notes\": [], \"_validation_status\": {}, \"_submitted_by\": \"sebastianduranv\"}]}'"
      ]
     },
     "execution_count": 19,
     "metadata": {},
     "output_type": "execute_result"
    }
   ],
   "source": [
    "new_data_jason"
   ]
  },
  {
   "cell_type": "code",
   "execution_count": null,
   "metadata": {},
   "outputs": [],
   "source": [
    "labeled_results = []\n",
    "for result in new_results: # new_results is a list of list of dicts\n",
    "        # Unpack answers to select_multiple questions\n",
    "        labeled_results.append(kobo.label_result(unlabeled_result=result, choice_lists=choice_lists, questions=questions, unpack_multiples=True))"
   ]
  }
 ],
 "metadata": {
  "kernelspec": {
   "display_name": "Python 3",
   "language": "python",
   "name": "python3"
  },
  "language_info": {
   "codemirror_mode": {
    "name": "ipython",
    "version": 3
   },
   "file_extension": ".py",
   "mimetype": "text/x-python",
   "name": "python",
   "nbconvert_exporter": "python",
   "pygments_lexer": "ipython3",
   "version": "3.8.3"
  }
 },
 "nbformat": 4,
 "nbformat_minor": 4
}
